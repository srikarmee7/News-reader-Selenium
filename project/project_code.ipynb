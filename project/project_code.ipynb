{
 "cells": [
  {
   "cell_type": "markdown",
   "metadata": {},
   "source": [
    "# Installing required libraries"
   ]
  },
  {
   "cell_type": "code",
   "execution_count": 1,
   "metadata": {},
   "outputs": [
    {
     "name": "stdout",
     "output_type": "stream",
     "text": [
      "Collecting selenium\n",
      "  Downloading selenium-3.141.0-py2.py3-none-any.whl (904 kB)\n",
      "Requirement already satisfied: urllib3 in c:\\users\\srika\\anaconda3\\lib\\site-packages (from selenium) (1.25.11)\n",
      "Installing collected packages: selenium\n",
      "Successfully installed selenium-3.141.0\n"
     ]
    }
   ],
   "source": [
    "!pip install selenium   #command to install selenium libr"
   ]
  },
  {
   "cell_type": "code",
   "execution_count": 9,
   "metadata": {},
   "outputs": [
    {
     "name": "stdout",
     "output_type": "stream",
     "text": [
      "Collecting gTTS\n",
      "  Downloading gTTS-2.2.2-py3-none-any.whl (25 kB)\n",
      "Requirement already satisfied: requests in c:\\users\\srika\\anaconda3\\lib\\site-packages (from gTTS) (2.24.0)\n",
      "Requirement already satisfied: click in c:\\users\\srika\\anaconda3\\lib\\site-packages (from gTTS) (7.1.2)\n",
      "Requirement already satisfied: six in c:\\users\\srika\\anaconda3\\lib\\site-packages (from gTTS) (1.15.0)\n",
      "Requirement already satisfied: idna<3,>=2.5 in c:\\users\\srika\\anaconda3\\lib\\site-packages (from requests->gTTS) (2.10)\n",
      "Requirement already satisfied: urllib3!=1.25.0,!=1.25.1,<1.26,>=1.21.1 in c:\\users\\srika\\anaconda3\\lib\\site-packages (from requests->gTTS) (1.25.11)\n",
      "Requirement already satisfied: chardet<4,>=3.0.2 in c:\\users\\srika\\anaconda3\\lib\\site-packages (from requests->gTTS) (3.0.4)\n",
      "Requirement already satisfied: certifi>=2017.4.17 in c:\\users\\srika\\anaconda3\\lib\\site-packages (from requests->gTTS) (2020.6.20)\n",
      "Installing collected packages: gTTS\n",
      "Successfully installed gTTS-2.2.2\n"
     ]
    }
   ],
   "source": [
    "!pip install gTTS    #Installing another required package google Text To speech"
   ]
  },
  {
   "cell_type": "code",
   "execution_count": 5,
   "metadata": {},
   "outputs": [
    {
     "name": "stdout",
     "output_type": "stream",
     "text": [
      "Breaking News Headlines: Read All News Updates in English | Inshorts\n",
      "Maharashtra government extends current COVID-19 restrictions till 7 am on May 15\n",
      "short by Daisy Mowke / 07:38 pm on 29 Apr 2021,Thursday\n",
      "Maharashtra government has extended current COVID-19 restrictions in the state till 7 am on May 15. The state government last week announced stricter restrictions till May 1. The guidelines allow people to hold only one wedding function not extending beyond two hours with a maximum of 25 guests. Moreover, government offices are allowed to operate with only 15% attendance.\n",
      "read more at Twitter\n",
      "Irrfan's wife recalls the night before his death, says 'We sang songs'\n",
      "short by Daisy Mowke / 08:23 pm on 29 Apr 2021,Thursday\n",
      "Late actor Irrfan Khan's wife Sutapa Sikdar, recalling the night before his demise on April 29 last year, wrote on Facebook, \"Me and my friends sang...your favourite songs for you.\" \"I wanted you to go with memories you loved...so we sang songs...next day you left for...next station,\" she added. \"I hope...you knew where to get down without me,\" wrote Sutapa.\n",
      "read more at The Quint\n",
      "Sara refuses to take pic with fan who pulled down mask, asks 'What are you doing?'\n",
      "short by Daisy Mowke / 07:16 pm on 29 Apr 2021,Thursday\n",
      "A video shows a fan approaching actress Sara Ali Khan for a selfie at Mumbai airport. As Sara, who had a mask and face shield on, maintained distance, the man can be seen pulling down his mask. \"What are you doing? You shouldn't be doing this, please don't do it,\" she said and walked towards her car without taking picture.\n",
      "read more at Hindustan Times\n",
      "Follow '6 Ps' while buying Remdesivir: Hyderabad Police Commissioner\n",
      "short by Pragya Swastik / 07:14 pm on 29 Apr 2021,Thursday\n",
      "Hyderabad's Police Commissioner Anjani Kumar raised concerns of counterfeit drugs and black marketing of Remdesivir and urged people to follow '6 Ps' while buying Remdesivir. Kumar said the '6 Ps' are - Place, Prescription, Promises, Price, Privacy and Product. The IPS officer warned against buying the medicines from unknown websites and sharing personal and financial details online.\n",
      "read more at Twitter\n",
      "Rajasthan Royals donate ₹7.5 crore to help those impacted by COVID-19 crisis\n",
      "short by Anmol Sharma / 07:09 pm on 29 Apr 2021,Thursday\n",
      "Rajasthan Royals today announced a contribution of over ₹7.5 crore from their owners, players and management to help with immediate support to those impacted by COVID-19 crisis in India. This will be implemented through Royal Rajasthan Foundation (RRF) in partnership with the British Asian Trust (BAT), the IPL franchise said. India reported nearly 3.8 lakh COVID-19 cases today.\n",
      "read more at CricTracker\n",
      "MI end their 2-match losing streak, hand RR their 4th loss in IPL 2021\n",
      "short by Anmol Sharma / 07:20 pm on 29 Apr 2021,Thursday\n",
      "MI defeated RR by seven wickets at the Arun Jaitley Stadium in Delhi to end their two-match losing streak. RR have now lost four matches in IPL 2021 and are seventh on the points table, while MI are placed fourth on the points table. MI opener Quinton De Kock slammed an unbeaten 70 off 50 balls to help MI win.\n",
      "read more at Cricket Country\n",
      "TMC to return in West Bengal, BJP likely to retain Assam: Exit Polls\n",
      "short by Pragya Swastik / 08:04 pm on 29 Apr 2021,Thursday\n",
      "The ABP-CVoter exit poll predicted a return to power for Mamata Banerjee-led Trinamool Congress in West Bengal with 152-164 seats. In Assam, India Today-Axis My India voter survey predicted a return to power for the BJP with 75-80 seats. Two exit polls predicted a comfortable win for DMK in Tamil Nadu and Republic-CNX exit poll predicted LDF's return in Kerala.\n",
      "Odisha CM urges PM for waiving off CAPF deployment charges in state\n",
      "short by Sakshi Sharma / 07:25 pm on 29 Apr 2021,Thursday\n",
      "CM Naveen Patnaik urged PM Narendra Modi to direct the Ministry of Home Affairs to waive off ₹4,561 crore charge for the deployment of Central Armed Police Forces (CAPF) in Odisha for dealing with Left Wing Extremism. The Government of India may appreciate the difficulties of states like Odisha while charging for such deployment of Central Forces, Patnaik stated.\n",
      "read more at ANI\n",
      "Florence Pugh to star in adaptation of 'The Wonder': Reports\n",
      "short by Udit Gupta / 07:20 pm on 29 Apr 2021,Thursday\n",
      "Florence Pugh, who has starred in films like 'Lady Macbeth' and 'The Falling', will reportedly be seen in the film adaptation of Emma Donoghue's 'The Wonder'. The upcoming film will reportedly be directed by Sebastian Lelio, who previously helmed projects like 'A Fantastic Woman' and 'Disobedience'. According to reports, the production will begin in August in Ireland.\n",
      "Kurt Cobain's last photoshoot to be auctioned as NFT\n",
      "short by Hiral Goyal / 07:56 pm on 29 Apr 2021,Thursday\n",
      "Late American singer and rock band Nirvana's frontman Kurt Cobain's last formal photoshoot will be auctioned off as a non-fungible token (NFT). The photoshoot, dubbed \"The Last Session\" by photographer Jesse Frohman, had taken place a few months before Cobain's death in 1994. \"The Last Session\" NFT collection will include over 100 photographs, including ones that haven't been published before.\n",
      "read more at jessefrohman.com\n",
      "Didn't take any other route to success: Nikki on facing casting couch\n",
      "short by Bulbul Sharma / 08:12 pm on 29 Apr 2021,Thursday\n",
      "Former 'Bigg Boss 14' contestant and actress Nikki Tamboli on being asked if she has faced casting couch, responded, \"Despite facing rejections, I did not give in or take any other route.\" She added, \"I was always open to facing rejections.\" Nikki stated that production houses told her that she can't talk, smile, dance, or act.\n",
      "read more at Hindustan Times\n",
      "I've least sex out of my friends: Smith's daughter on being polyamorous\n",
      "short by Bulbul Sharma / 08:04 pm on 29 Apr 2021,Thursday\n",
      "Actor Will Smith's daughter Willow Smith, in an episode of 'Red Table Talk', said that her polyamorous lifestyle isn't centred around sex. She added, \"In my friend group, I'm the only polyamorous person and I've the least sex out of all my friends.\" Willow stated that polyamory offers freedom to create a relationship style that works for an individual.\n",
      "read more at Free Press Journal\n",
      "Mohit Malik, Addite Malik blessed with a baby boy\n",
      "short by Udit Gupta / 08:24 pm on 29 Apr 2021,Thursday\n",
      "Actor Mohit Malik and his actress-wife Addite Malik have been blessed with a baby boy. Addite took to Instagram on Thursday to share a glimpse of her newborn son and thanked the universe for the blessing. \"Thank you for...midnight cries and all that comes with it, because we...feel lucky to welcome our...baby boy into our world of love,\" she added.\n",
      "Traders' body CAIT urges Delhi govt to extend lockdown till May 15\n",
      "short by Krishna Raj / 07:59 pm on 29 Apr 2021,Thursday\n",
      "Traders' body, Confederation of All India Traders (CAIT) on Thursday urged Delhi Lieutenant Governor (L-G) Anil Baijal and Chief Minister Arvind Kejriwal to extend the lockdown till May 15. \"Despite various steps taken by...government...Delhi is highly suffering with shortage of medical oxygen,\" it said. CAIT also pointed out that the national capital's daily testing rates have come down.\n",
      "read more at Twitter\n",
      "Dry swab RT-PCR COVID-19 tests licensed by CCMB\n",
      "short by Navashree Nandini / 08:09 pm on 29 Apr 2021,Thursday\n",
      "The Centre for Cellular and Molecular Biology (CCMB) has licensed dry swab-direct RT-PCR COVID-19 testing method developed by it to Capital Health Services India for commercialisation. CCMB Director Rakesh K. Mishra expects the testing method to be available in about a week. \"Way to go for ramping up COVID-19 testing across the country,\" the CCMB tweeted on Wednesday.\n",
      "read more at TheQuint\n",
      "Leh to be under weekend curfew from 9 pm on Apr 30 to 5 am on May 3\n",
      "short by Deepika Bhatt / 08:25 pm on 29 Apr 2021,Thursday\n",
      "The administration in Ladakh's Leh on Thursday announced that a weekend curfew will be imposed across the district from 9 pm on April 30 to 5 am on May 3 in view of the rising COVID-19 cases. However, essential and emergency services will be allowed. Air passengers travelling to and from Leh will be allowed on the production of tickets.\n",
      "read more at ANI\n",
      "Want to work with Centre, state govts to manage COVID-19: RSS\n",
      "short by Bulbul Sharma / 08:27 pm on 29 Apr 2021,Thursday\n",
      "Rashtriya Swayamsevak Sangh's (RSS) chief of media relations Sunil Ambekar said that the Sangh doesn't want to criticise the Centre or state governments and instead wants to work with them to manage the second wave of COVID-19. He also stated that people should be optimistic and work together to deal with the pandemic.\n",
      "read more at TheQuint\n",
      "Use 300 oxygen beds in hospitals run by Railways: K'taka HC to BBMP\n",
      "short by Navashree Nandini / 08:37 pm on 29 Apr 2021,Thursday\n",
      "The Karnataka High Court on Thursday directed the Bruhat Bengaluru Mahanagara Palike (BBMP) to take over 300 oxygen beds in hospitals run by the South Western Railways amid rising COVID-19 cases. The state government was asked to take over similar facilities in Mysuru and Hubballi. The HC also asked the Centre to address oxygen and Remdesivir shortages in the state.\n",
      "read more at The News Minute\n",
      "Give ₹50L to families of those who died of COVID-19 on poll duty: Ex-UP CM\n",
      "short by Deepika Bhatt / 08:36 pm on 29 Apr 2021,Thursday\n",
      "Samajwadi Party chief Akhilesh Yadav demanded that the Uttar Pradesh government provide ₹50-lakh financial assistance to families of those who died due to COVID-19 while on duty in Panchayat polls. \"Otherwise government employees and teachers will be forced to boycott the counting duty,\" he tweeted. UP reported a record rise of 298 COVID-19 deaths and 35,156 new cases on Thursday.\n",
      "read more at PTI\n",
      "Over 40 countries offered help in fight against COVID: Foreign Secy\n",
      "short by Bulbul Sharma / 08:03 pm on 29 Apr 2021,Thursday\n",
      "The coronavirus pandemic has triggered an \"unprecedented\" situation in the country and over 40 countries have come forward to offer assistance in fight against the second wave of COVID-19, Foreign Secretary Harsh Vardhan Shringla said. \"We have given assistance; we are getting assistance. It shows an interdependent world. It shows a world that is working with each other,\" Shringla added.\n",
      "read more at Zee News\n",
      "Salesforce is sending a flight with medical supplies to India: CEO\n",
      "short by Hiral Goyal / 08:16 pm on 29 Apr 2021,Thursday\n",
      "Salesforce CEO Marc Benioff has said the company is sending medical supplies to India amid the rising cases of coronavirus in the country. \"We are loading a Boeing 787 with medical supplies and will land it in India next week,\" Benioff tweeted. He further wrote, \"All of our hearts and prayers are with our brothers and sisters in India.\"\n",
      "read more at Twitter\n",
      "NFTs are like 1990s internet bubble; they are here to stay: Beeple\n",
      "short by Hiral Goyal / 07:51 pm on 29 Apr 2021,Thursday\n",
      "Digital artist Beeple in an interview with The Street said non-fungible tokens (NFTs) are here to stay. Likening it to the dotcom bubble of late 1990s, he added, \"People kept using the internet, it just kind of wiped out all the crap.\" Beeple became one of the most valuable living artists after selling his artwork as NFT for ₹504 crore.\n",
      "read more at Business Insider India\n",
      "There are 2 things I invest in; myself & Bitcoin: Reddit Co-founder\n",
      "short by Hiral Goyal / 07:53 pm on 29 Apr 2021,Thursday\n",
      "Reddit Co-founder and investor Alexis Ohanian said there are exactly two things he invests in regardless of the risks - himself and Bitcoin. He further added cryptocurrency Ethereum to the list. Ohanian has been a vocal supporter of cryptocurrencies and has also backed Lolli, a startup that offers Bitcoin in rewards to its users.\n",
      "read more at Twitter\n",
      "China warns US against imposing 'democratic ideals'\n",
      "short by Dharini Mudgal / 08:42 pm on 29 Apr 2021,Thursday\n",
      "China on Thursday warned the US for \"forcing other countries\" to accept its \"democratic ideals\" after US President Joe Biden's speech in which he criticised \"autocrats\". Chinese Foreign Ministry spokesman Wang Wenbin said it was normal for both countries to compete in some fields. \"But this kind of competition should be...track and field race, not...duel to the death,\" he added.\n",
      "read more at WION\n",
      "Pakistan editors object to media curb, term it 'censorship tool'\n",
      "short by Dharini Mudgal / 07:14 pm on 29 Apr 2021,Thursday\n",
      "Pakistan's senior media editors have objected to a new directive by Pakistan Electronic Media Regulatory Authority (PEMRA). PEMRA has advised satellite TV channels not to report on government meetings under progress and said channels should rely on briefings by a cabinet member to avoid the airing of \"fake or speculative news\". Senior editors have termed PEMRA as a \"censorship tool\".\n",
      "read more at ANI News\n"
     ]
    }
   ],
   "source": [
    "from selenium import webdriver\n",
    "from gtts import gTTS\n",
    "import os\n",
    "from sys import exit\n",
    "def main():\n",
    "    driver = webdriver.Firefox()                       #Command to access Firefox web browser\n",
    "    driver.get('https://inshorts.com/en/read/')        #get() function to pass the link of the website        \n",
    "    print(driver.title)\n",
    "    driver.maximize_window()\n",
    "\n",
    "\n",
    "    for headline in driver.find_elements_by_class_name(\"card-stack\"): #using Locating Elements method to find the class in the website\n",
    "        test = headline.text\n",
    "        f = open(\"news.txt\",'a',encoding='utf-8')  #Encoding UTF-8 characters to text format\n",
    "        f.write(test + \"\\n\")                       #Writing the text in the file\n",
    "        f.close()\n",
    "        print(test)\n",
    "        driver.quit()                              #closing the driver using quit() command\n",
    "    \n",
    "\n",
    "    f = open(\"news.txt\",'r',encoding='utf-8')      #Opening the file in read mode\n",
    "    a = f.read()\n",
    "    tts=gTTS(text=a,lang='en')                     #Converting text to audio format\n",
    "    tts.save('readnews.mp3')                       #Saving the file in mp3 audio format\n",
    "    f.close()\n",
    "    exit()\n",
    "\n",
    "   ## Exception handling\n",
    "if __name__ == \"__main__\":\n",
    "   try:\n",
    "      main()\n",
    "   except KeyboardInterrupt:\n",
    "      # do nothing here\n",
    "      pass "
   ]
  },
  {
   "cell_type": "code",
   "execution_count": 3,
   "metadata": {},
   "outputs": [],
   "source": [
    "def play_sound():\n",
    "    os.system('start readnews.mp3')\n",
    "play_sound()"
   ]
  },
  {
   "cell_type": "code",
   "execution_count": 17,
   "metadata": {},
   "outputs": [
    {
     "name": "stdout",
     "output_type": "stream",
     "text": [
      "Collecting playsound\n",
      "  Downloading playsound-1.2.2-py2.py3-none-any.whl (6.0 kB)\n",
      "Installing collected packages: playsound\n",
      "Successfully installed playsound-1.2.2\n"
     ]
    }
   ],
   "source": [
    "!pip install playsound"
   ]
  }
 ],
 "metadata": {
  "kernelspec": {
   "display_name": "Python 3",
   "language": "python",
   "name": "python3"
  },
  "language_info": {
   "codemirror_mode": {
    "name": "ipython",
    "version": 3
   },
   "file_extension": ".py",
   "mimetype": "text/x-python",
   "name": "python",
   "nbconvert_exporter": "python",
   "pygments_lexer": "ipython3",
   "version": "3.8.5"
  }
 },
 "nbformat": 4,
 "nbformat_minor": 4
}
